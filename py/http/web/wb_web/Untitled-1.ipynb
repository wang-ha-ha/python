{
 "cells": [
  {
   "cell_type": "code",
   "execution_count": null,
   "source": [
    "def _parse_form(msg):\r\n",
    "    msg = msg.split('&')\r\n",
    "    print(msg)\r\n",
    "    d = {}\r\n",
    "    for i in msg:\r\n",
    "        t = i.split('=')\r\n",
    "        print(t)\r\n",
    "        d[t[0]] = t[1]\r\n",
    "    return d\r\n",
    "\r\n",
    "t = _parse_form(\"Luma=1&Contrast=2&Hue=3&Saturation=4&Sharpness=5\")\r\n",
    "print(t)"
   ],
   "outputs": [],
   "metadata": {}
  },
  {
   "cell_type": "code",
   "execution_count": null,
   "source": [
    "import time\r\n",
    "\r\n",
    "def date(func):\r\n",
    "    def wrapper():\r\n",
    "        func()\r\n",
    "        date = time.time()\r\n",
    "        print(date)\r\n",
    "    return wrapper\r\n",
    " \r\n",
    "@date\r\n",
    "def alan():\r\n",
    "    print('alan speaking')\r\n",
    "@date\r\n",
    "def tom():\r\n",
    "    print('tom speaking')\r\n",
    " \r\n",
    "tom()\r\n",
    "alan()\r\n",
    "alan()"
   ],
   "outputs": [],
   "metadata": {}
  },
  {
   "cell_type": "code",
   "execution_count": 10,
   "source": [
    "#         0 25 50 75 100\r\n",
    "curve = [10,30,50,80,90]\r\n",
    "\r\n",
    "def curve_map(data):\r\n",
    "    i = data // 25\r\n",
    "\r\n",
    "    if(i == 4):\r\n",
    "        i = 3\r\n",
    "\r\n",
    "    s,e = curve[i],curve[i + 1]\r\n",
    "\r\n",
    "    return ((e-s) * (data - i * 25)) / 25 + s\r\n",
    "\r\n",
    "print(curve_map(25))\r\n",
    "print(curve_map(50))\r\n",
    "print(curve_map(35))\r\n",
    "print(curve_map(85))\r\n",
    "print(curve_map(100))\r\n",
    "print(curve_map(0))"
   ],
   "outputs": [
    {
     "output_type": "stream",
     "name": "stdout",
     "text": [
      "30.0\n",
      "50.0\n",
      "38.0\n",
      "84.0\n",
      "90.0\n",
      "10.0\n"
     ]
    }
   ],
   "metadata": {}
  },
  {
   "cell_type": "code",
   "execution_count": null,
   "source": [],
   "outputs": [],
   "metadata": {}
  }
 ],
 "metadata": {
  "orig_nbformat": 4,
  "language_info": {
   "name": "python",
   "version": "3.7.0",
   "mimetype": "text/x-python",
   "codemirror_mode": {
    "name": "ipython",
    "version": 3
   },
   "pygments_lexer": "ipython3",
   "nbconvert_exporter": "python",
   "file_extension": ".py"
  },
  "kernelspec": {
   "name": "python3",
   "display_name": "Python 3.7.0 64-bit"
  },
  "interpreter": {
   "hash": "1656095f5a321933128baeb1e5852762c0c2efe3a70f3c18ba3b83905bb59e75"
  }
 },
 "nbformat": 4,
 "nbformat_minor": 2
}